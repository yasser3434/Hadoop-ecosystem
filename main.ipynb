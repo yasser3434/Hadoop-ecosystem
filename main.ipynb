{
 "cells": [
  {
   "cell_type": "code",
   "execution_count": 1,
   "metadata": {},
   "outputs": [],
   "source": [
    "import pickle\n",
    "\n",
    "from pyspark.sql.types import StructType,StructField, StringType, IntegerType, FloatType\n",
    "from pyspark.sql import SparkSession\n",
    "from pyspark.sql.functions import *"
   ]
  },
  {
   "cell_type": "code",
   "execution_count": null,
   "metadata": {},
   "outputs": [],
   "source": []
  },
  {
   "cell_type": "markdown",
   "metadata": {},
   "source": [
    "### CONCAT THE CSV FILES"
   ]
  },
  {
   "cell_type": "code",
   "execution_count": 69,
   "metadata": {},
   "outputs": [],
   "source": [
    "spark = SparkSession.builder.master(\"local\").appName(\"hdfs_test\").getOrCreate()"
   ]
  },
  {
   "cell_type": "code",
   "execution_count": 178,
   "metadata": {},
   "outputs": [
    {
     "name": "stderr",
     "output_type": "stream",
     "text": [
      "                                                                                \r"
     ]
    }
   ],
   "source": [
    "spark.read.option('header', 'true').csv(\"/home/yasser/Desktop/hadoop/data/data_wheather\", inferSchema=True).write.csv(\"hdfs://localhost:9000/user/input/all_data.csv\")"
   ]
  },
  {
   "cell_type": "code",
   "execution_count": 186,
   "metadata": {},
   "outputs": [
    {
     "name": "stdout",
     "output_type": "stream",
     "text": [
      "+----------+--------+--------+--------+-------------+------------+------------+\n",
      "| date_time|maxtempC|mintempC|humidity|windspeedKmph|totalSnow_cm|    location|\n",
      "+----------+--------+--------+--------+-------------+------------+------------+\n",
      "|2009-01-01|      25|      16|      83|           10|         0.0|Johannesburg|\n",
      "|2009-01-02|      28|      18|      76|            9|         0.0|Johannesburg|\n",
      "|2009-01-03|      29|      17|      71|           11|         0.0|Johannesburg|\n",
      "|2009-01-04|      33|      17|      58|            9|         0.0|Johannesburg|\n",
      "|2009-01-05|      26|      16|      73|           13|         0.0|Johannesburg|\n",
      "|2009-01-06|      28|      16|      72|           10|         0.0|Johannesburg|\n",
      "|2009-01-07|      31|      18|      64|            6|         0.0|Johannesburg|\n",
      "|2009-01-08|      30|      20|      63|            7|         0.0|Johannesburg|\n",
      "|2009-01-09|      29|      19|      66|            7|         0.0|Johannesburg|\n",
      "|2009-01-10|      23|      18|      89|            6|         0.0|Johannesburg|\n",
      "|2009-01-11|      22|      17|      96|            5|         0.0|Johannesburg|\n",
      "|2009-01-12|      21|      19|      96|            5|         0.0|Johannesburg|\n",
      "|2009-01-13|      26|      16|      82|            5|         0.0|Johannesburg|\n",
      "|2009-01-14|      28|      16|      76|            7|         0.0|Johannesburg|\n",
      "|2009-01-15|      26|      17|      74|           10|         0.0|Johannesburg|\n",
      "|2009-01-16|      30|      16|      67|            4|         0.0|Johannesburg|\n",
      "|2009-01-17|      31|      21|      61|            5|         0.0|Johannesburg|\n",
      "|2009-01-18|      24|      20|      84|            6|         0.0|Johannesburg|\n",
      "|2009-01-19|      27|      18|      81|            9|         0.0|Johannesburg|\n",
      "|2009-01-20|      27|      17|      85|            9|         0.0|Johannesburg|\n",
      "+----------+--------+--------+--------+-------------+------------+------------+\n",
      "only showing top 20 rows\n",
      "\n"
     ]
    }
   ],
   "source": [
    "df_concat = spark.read.option('header', 'true').csv(\"/home/yasser/Desktop/hadoop/data/data_wheather\")\n",
    "df_concat = df_concat.select(['date_time', 'maxtempC', 'mintempC', 'humidity', 'windspeedKmph', 'totalSnow_cm', 'location'])\n",
    "df_concat.show()"
   ]
  },
  {
   "cell_type": "code",
   "execution_count": 191,
   "metadata": {},
   "outputs": [
    {
     "name": "stderr",
     "output_type": "stream",
     "text": [
      "                                                                                \r"
     ]
    }
   ],
   "source": [
    "df_concat.write.option('header', 'true').csv(\"hdfs://localhost:9000/user/input/all_data.csv\")"
   ]
  },
  {
   "cell_type": "code",
   "execution_count": null,
   "metadata": {},
   "outputs": [],
   "source": []
  },
  {
   "cell_type": "markdown",
   "metadata": {},
   "source": [
    "## PYSPARK"
   ]
  },
  {
   "cell_type": "markdown",
   "metadata": {},
   "source": [
    "### PRE PROCESSING"
   ]
  },
  {
   "cell_type": "code",
   "execution_count": 106,
   "metadata": {},
   "outputs": [
    {
     "name": "stdout",
     "output_type": "stream",
     "text": [
      "+-------------------+--------+--------+--------+-------------+------------+------------+\n",
      "|          date_time|maxtempC|mintempC|humidity|windspeedKmph|totalSnow_cm|    location|\n",
      "+-------------------+--------+--------+--------+-------------+------------+------------+\n",
      "|2009-01-01 00:00:00|      25|      16|      83|           10|         0.0|Johannesburg|\n",
      "|2009-01-02 00:00:00|      28|      18|      76|            9|         0.0|Johannesburg|\n",
      "|2009-01-03 00:00:00|      29|      17|      71|           11|         0.0|Johannesburg|\n",
      "|2009-01-04 00:00:00|      33|      17|      58|            9|         0.0|Johannesburg|\n",
      "|2009-01-05 00:00:00|      26|      16|      73|           13|         0.0|Johannesburg|\n",
      "|2009-01-06 00:00:00|      28|      16|      72|           10|         0.0|Johannesburg|\n",
      "|2009-01-07 00:00:00|      31|      18|      64|            6|         0.0|Johannesburg|\n",
      "|2009-01-08 00:00:00|      30|      20|      63|            7|         0.0|Johannesburg|\n",
      "|2009-01-09 00:00:00|      29|      19|      66|            7|         0.0|Johannesburg|\n",
      "|2009-01-10 00:00:00|      23|      18|      89|            6|         0.0|Johannesburg|\n",
      "|2009-01-11 00:00:00|      22|      17|      96|            5|         0.0|Johannesburg|\n",
      "|2009-01-12 00:00:00|      21|      19|      96|            5|         0.0|Johannesburg|\n",
      "|2009-01-13 00:00:00|      26|      16|      82|            5|         0.0|Johannesburg|\n",
      "|2009-01-14 00:00:00|      28|      16|      76|            7|         0.0|Johannesburg|\n",
      "|2009-01-15 00:00:00|      26|      17|      74|           10|         0.0|Johannesburg|\n",
      "|2009-01-16 00:00:00|      30|      16|      67|            4|         0.0|Johannesburg|\n",
      "|2009-01-17 00:00:00|      31|      21|      61|            5|         0.0|Johannesburg|\n",
      "|2009-01-18 00:00:00|      24|      20|      84|            6|         0.0|Johannesburg|\n",
      "|2009-01-19 00:00:00|      27|      18|      81|            9|         0.0|Johannesburg|\n",
      "|2009-01-20 00:00:00|      27|      17|      85|            9|         0.0|Johannesburg|\n",
      "+-------------------+--------+--------+--------+-------------+------------+------------+\n",
      "only showing top 20 rows\n",
      "\n"
     ]
    },
    {
     "name": "stderr",
     "output_type": "stream",
     "text": [
      "                                                                                \r"
     ]
    }
   ],
   "source": [
    "df = spark.read.option('header', 'true').csv(\"hdfs://localhost:9000/user/input/all_data.csv\", inferSchema=True)\n",
    "df.show()"
   ]
  },
  {
   "cell_type": "code",
   "execution_count": 127,
   "metadata": {},
   "outputs": [
    {
     "name": "stdout",
     "output_type": "stream",
     "text": [
      "+-------------------+--------+--------+--------+-------------+------------+--------+\n",
      "|          date_time|maxtempC|mintempC|humidity|windspeedKmph|totalSnow_cm|location|\n",
      "+-------------------+--------+--------+--------+-------------+------------+--------+\n",
      "|2009-03-07 00:00:00|      10|       1|      84|           10|         0.0|   Paris|\n",
      "+-------------------+--------+--------+--------+-------------+------------+--------+\n",
      "\n"
     ]
    },
    {
     "name": "stderr",
     "output_type": "stream",
     "text": [
      "                                                                                \r"
     ]
    }
   ],
   "source": [
    "df.filter((df.location == 'Paris') & (df.date_time == '2009-03-07 00:00:00')).show()"
   ]
  },
  {
   "cell_type": "code",
   "execution_count": null,
   "metadata": {},
   "outputs": [],
   "source": []
  },
  {
   "cell_type": "code",
   "execution_count": 149,
   "metadata": {},
   "outputs": [
    {
     "name": "stdout",
     "output_type": "stream",
     "text": [
      "+-----+----------+---------+------------------+------------------+\n",
      "|month|avg(month)|avg(year)|     avg(maxtempC)|     avg(mintempC)|\n",
      "+-----+----------+---------+------------------+------------------+\n",
      "|    1|       1.0|   2019.0|16.893830253679926|11.491700595051675|\n",
      "|    2|       2.0|   2019.0|18.630374479889042|12.550970873786408|\n",
      "|    3|       3.0|   2019.0|20.739743188224242|14.225806451612904|\n",
      "|    4|       4.0|   2019.0|22.888025889967636|16.133656957928803|\n",
      "|    5|       5.0|   2019.0|25.068274350140932| 18.26777325399311|\n",
      "|    6|       6.0|   2019.0|28.179611650485437|21.002912621359222|\n",
      "|    7|       7.0|   2019.0| 28.54400250548074| 21.38396492326965|\n",
      "|    8|       8.0|   2019.0|28.953961791418728| 21.72690259943627|\n",
      "|    9|       9.0|   2019.0|26.851132686084142|19.915210355987053|\n",
      "|   10|      10.0|   2019.0|24.585342937676167| 18.29314124647667|\n",
      "|   11|      11.0|   2019.0|20.803559870550163| 15.20906148867314|\n",
      "|   12|      12.0|   2019.0| 18.17256498590667|13.003758221108676|\n",
      "+-----+----------+---------+------------------+------------------+\n",
      "\n"
     ]
    }
   ],
   "source": [
    "df.selectExpr(\"month(date_time) AS month\", \"year(date_time) AS year\", 'maxtempC', \"mintempC\", \"location\",)\\\n",
    "    .filter((col('year') == '2019') ).groupBy(col('month')).mean().sort(col('month')).show()\n",
    "\n",
    "    # .groupBy(['month']).mean().select(['month', 'location', 'avg(maxtempC)', 'avg(mintempC)']).orderBy(col('avg(mintempC)').asc()).show()"
   ]
  },
  {
   "cell_type": "code",
   "execution_count": null,
   "metadata": {},
   "outputs": [],
   "source": []
  },
  {
   "cell_type": "code",
   "execution_count": null,
   "metadata": {},
   "outputs": [],
   "source": []
  },
  {
   "cell_type": "code",
   "execution_count": 131,
   "metadata": {},
   "outputs": [
    {
     "data": {
      "text/plain": [
       "504597"
      ]
     },
     "execution_count": 131,
     "metadata": {},
     "output_type": "execute_result"
    }
   ],
   "source": [
    "df.count()"
   ]
  },
  {
   "cell_type": "code",
   "execution_count": 73,
   "metadata": {},
   "outputs": [
    {
     "name": "stdout",
     "output_type": "stream",
     "text": [
      "root\n",
      " |-- date_time: timestamp (nullable = true)\n",
      " |-- maxtempC: integer (nullable = true)\n",
      " |-- mintempC: integer (nullable = true)\n",
      " |-- humidity: integer (nullable = true)\n",
      " |-- windspeedKmph: integer (nullable = true)\n",
      " |-- totalSnow_cm: double (nullable = true)\n",
      " |-- location: string (nullable = true)\n",
      "\n"
     ]
    }
   ],
   "source": [
    "df.printSchema()"
   ]
  },
  {
   "cell_type": "code",
   "execution_count": 74,
   "metadata": {},
   "outputs": [
    {
     "name": "stdout",
     "output_type": "stream",
     "text": [
      "+---------+--------+--------+--------+-------------+------------+--------+\n",
      "|date_time|maxtempC|mintempC|humidity|windspeedKmph|totalSnow_cm|location|\n",
      "+---------+--------+--------+--------+-------------+------------+--------+\n",
      "+---------+--------+--------+--------+-------------+------------+--------+\n",
      "\n",
      "+---------+--------+--------+--------+-------------+------------+--------+\n",
      "|date_time|maxtempC|mintempC|humidity|windspeedKmph|totalSnow_cm|location|\n",
      "+---------+--------+--------+--------+-------------+------------+--------+\n",
      "+---------+--------+--------+--------+-------------+------------+--------+\n",
      "\n",
      "+---------+--------+--------+--------+-------------+------------+--------+\n",
      "|date_time|maxtempC|mintempC|humidity|windspeedKmph|totalSnow_cm|location|\n",
      "+---------+--------+--------+--------+-------------+------------+--------+\n",
      "+---------+--------+--------+--------+-------------+------------+--------+\n",
      "\n"
     ]
    },
    {
     "name": "stderr",
     "output_type": "stream",
     "text": [
      "                                                                                \r"
     ]
    }
   ],
   "source": [
    "# CHECK FOR NaN VALUES\n",
    "\n",
    "df.filter(df.maxtempC.isNull()).show()\n",
    "df.filter(df.mintempC.isNull()).show()\n",
    "df.filter(df.location.isNull()).show()"
   ]
  },
  {
   "cell_type": "code",
   "execution_count": null,
   "metadata": {},
   "outputs": [],
   "source": []
  },
  {
   "cell_type": "markdown",
   "metadata": {},
   "source": [
    "### HOTTEST CITIES"
   ]
  },
  {
   "cell_type": "code",
   "execution_count": 103,
   "metadata": {},
   "outputs": [
    {
     "name": "stdout",
     "output_type": "stream",
     "text": [
      "+-------------------+--------+--------+--------+-------------+------------+--------+\n",
      "|          date_time|maxtempC|mintempC|humidity|windspeedKmph|totalSnow_cm|location|\n",
      "+-------------------+--------+--------+--------+-------------+------------+--------+\n",
      "|2010-06-14 00:00:00|      53|      32|      18|            9|         0.0|    Agra|\n",
      "|2009-05-21 00:00:00|      52|      33|      16|            5|         0.0|   Delhi|\n",
      "|2009-05-19 00:00:00|      52|      35|      14|            5|         0.0|    Agra|\n",
      "|2009-05-20 00:00:00|      52|      36|      14|            3|         0.0|   Delhi|\n",
      "|2009-05-21 00:00:00|      52|      34|      16|            8|         0.0|    Agra|\n",
      "|2009-05-22 00:00:00|      52|      37|      17|           10|         0.0|    Agra|\n",
      "|2010-06-20 00:00:00|      52|      33|      17|            4|         0.0|    Agra|\n",
      "|2010-05-22 00:00:00|      52|      31|      11|            6|         0.0|   Delhi|\n",
      "|2009-05-19 00:00:00|      52|      34|      16|            4|         0.0|   Delhi|\n",
      "|2009-06-13 00:00:00|      51|      33|      14|            7|         0.0|   Delhi|\n",
      "|2010-05-04 00:00:00|      51|      32|      19|            6|         0.0|   Delhi|\n",
      "|2010-05-21 00:00:00|      51|      27|      10|            7|         0.0|  Jaipur|\n",
      "|2009-07-07 00:00:00|      51|      34|      24|            7|         0.0|    Agra|\n",
      "|2013-06-05 00:00:00|      51|      37|      19|            5|         0.0|    Agra|\n",
      "|2010-05-15 00:00:00|      51|      31|      11|            6|         0.0|    Agra|\n",
      "|2013-06-06 00:00:00|      51|      39|      18|            7|         0.0|   Delhi|\n",
      "|2010-05-22 00:00:00|      51|      32|      10|            7|         0.0|    Agra|\n",
      "|2010-06-13 00:00:00|      51|      33|      13|            6|         0.0|    Agra|\n",
      "|2022-05-13 00:00:00|      51|      33|       7|           16|         0.0|    Agra|\n",
      "|2018-05-23 00:00:00|      51|      39|       9|            7|         0.0|   Delhi|\n",
      "+-------------------+--------+--------+--------+-------------+------------+--------+\n",
      "only showing top 20 rows\n",
      "\n"
     ]
    },
    {
     "name": "stderr",
     "output_type": "stream",
     "text": [
      "                                                                                \r"
     ]
    }
   ],
   "source": [
    "df.orderBy(df.maxtempC.desc()).show()"
   ]
  },
  {
   "cell_type": "code",
   "execution_count": 76,
   "metadata": {},
   "outputs": [
    {
     "name": "stdout",
     "output_type": "stream",
     "text": [
      "+---------+------------------+------------------+------------------+------------------+-----------------+\n",
      "| location|     avg(maxtempC)|     avg(mintempC)|     avg(humidity)|avg(windspeedKmph)|avg(totalSnow_cm)|\n",
      "+---------+------------------+------------------+------------------+------------------+-----------------+\n",
      "|     Agra|34.491120636864665|23.867115737905696| 40.61359461114513| 9.527658705858338|              0.0|\n",
      "|    Macau| 34.43253725250051| 22.63768115942029| 62.84670340885895|16.468258828332313|              0.0|\n",
      "|    Delhi|34.316391100224536|23.901408450704224| 39.58032251479894| 9.053684425392937|              0.0|\n",
      "|  Kolkata| 33.68952847519902|24.509695856297203| 60.42620943049602|11.143294549908145|              0.0|\n",
      "|   Jaipur| 33.35456215554195|22.507450500102063| 37.06552357624005| 10.89140640947132|              0.0|\n",
      "|  Bangkok| 33.26209430496019|26.617064707083077| 65.08920187793427|11.105531741171667|              0.0|\n",
      "|   Riyadh| 32.68320065319453|20.650132680138803| 22.61931006327822|13.280261277811798|              0.0|\n",
      "|    Dubai|32.257195345988976|26.322718922229026| 52.64809144723413|13.565625637885283|              0.0|\n",
      "|     Doha|32.162278015921615|25.698918146560523| 49.11594202898551| 16.92263727291284|              0.0|\n",
      "|Fortaleza| 31.76872831190039|20.848540518473158| 72.10696060420494|12.289242702592366|              0.0|\n",
      "|   Mumbai| 31.63053684425393|26.230455194937743| 66.23882424984691|12.344151867728108|              0.0|\n",
      "|  Jakarta|31.597468871198203|25.606246172688305| 71.99714227393346|  9.33435394978567|              0.0|\n",
      "|   Muscat|31.461726883037354| 25.31271688099612|51.666666666666664|10.649520310267402|              0.0|\n",
      "|   Manila|31.405592978158808|25.446621759542765| 75.63645641967749|  9.73259848948765|              0.0|\n",
      "|Singapore| 31.15962441314554| 26.09348846703409| 76.42845478669116| 9.660542967952644|              0.0|\n",
      "|  Chennai| 31.15003061849357|26.761788120024494| 70.59889773423147| 16.10614411104307|              0.0|\n",
      "|Cartagena|30.757705654215147|26.511124719330475| 76.20902224943866|14.845274545825678|              0.0|\n",
      "|  Pattaya| 30.49499897938355|26.193713002653602| 72.68503776280873|12.743417023882426|              0.0|\n",
      "|     Palu| 30.36231884057971|23.616248213921207| 84.86813635435803| 4.522147377015718|              0.0|\n",
      "|    Cairo| 30.19636660542968| 17.63461931006328| 47.59399877526026|14.245560318432332|              0.0|\n",
      "+---------+------------------+------------------+------------------+------------------+-----------------+\n",
      "only showing top 20 rows\n",
      "\n"
     ]
    }
   ],
   "source": [
    "df.groupBy(\"location\").mean().orderBy(col('avg(maxtempC)').desc()).show()"
   ]
  },
  {
   "cell_type": "code",
   "execution_count": null,
   "metadata": {},
   "outputs": [],
   "source": []
  },
  {
   "cell_type": "markdown",
   "metadata": {},
   "source": [
    "### COLDEST CITIES"
   ]
  },
  {
   "cell_type": "code",
   "execution_count": 77,
   "metadata": {},
   "outputs": [
    {
     "name": "stdout",
     "output_type": "stream",
     "text": [
      "+------------+------------------+------------------+-----------------+------------------+--------------------+\n",
      "|    location|     avg(maxtempC)|     avg(mintempC)|    avg(humidity)|avg(windspeedKmph)|   avg(totalSnow_cm)|\n",
      "+------------+------------------+------------------+-----------------+------------------+--------------------+\n",
      "|        Bern|14.047764849969381|2.4419269238620127|80.65380689936721| 7.436619718309859| 0.33278220044907136|\n",
      "|       Sofia|16.444988773219023| 4.509083486425801|73.39212084098796|  7.56582976117575| 0.32478056746274714|\n",
      "|      Munich|13.432741375790977| 4.774852010614411| 81.4996938150643|10.107368850785875|   0.358011839150847|\n",
      "|      krakow|12.772810777709736| 5.515411308430292|80.93059808124107|14.248009797917943| 0.11916717697489292|\n",
      "|      Prague|13.534803021024699| 5.687487242294345|76.36844253929374|11.365788936517657| 0.23641559501939144|\n",
      "|      Warsaw|13.063686466625843|  5.85241886099204|75.88324147785262|12.329454990814451|  0.2173708920187794|\n",
      "|    CapeTown| 17.73341498264952| 5.978975301081854|77.17309655031639|10.812206572769954|0.002020820575627...|\n",
      "|     Toronto|11.735456215554194| 6.120636864666259|76.78730353133292|15.797713819146765|  0.1416003265972649|\n",
      "|      Sousse|15.065115329659115| 6.639518269034497|81.37130026536028| 11.56031843233313|  0.0685037762808737|\n",
      "|      Vienna|15.114513165952236| 6.741988160849153| 72.8795672586242|12.405592978158808|  0.1201061441110432|\n",
      "|      Berlin|14.290875688916106| 7.049193713002653|74.68115942028986|12.577260665441926| 0.11247193304756084|\n",
      "|   Vancouver|12.592569912226985| 7.058787507654624|79.63033272096347| 8.886507450500103|  0.1467238211879975|\n",
      "|   Frankfurt|14.741988160849154| 7.288017962849561|75.94815268422127|10.437844458052664| 0.09730557256582983|\n",
      "|    Florence|19.407430087773015| 7.385588895692998|74.72994488671158|  8.49397836293121|0.023617064707083073|\n",
      "|    Brussels| 14.40232700551133| 7.481935088793631| 79.8232292304552| 14.38150642988365| 0.07750561339048789|\n",
      "|Christchurch|16.132884262094304| 7.579506021637068|76.09573382322922|13.651765666462543|  0.0107981220657277|\n",
      "|  Copenhagen|11.284139620330679| 7.687283119003879|79.32761788120024|18.161257399469278|  0.0959583588487448|\n",
      "|      Dublin|12.072259644825474| 7.896917738313942|83.65217391304348| 20.39354970402123| 0.02302510716472749|\n",
      "|      London|14.693406817717902| 8.108185343947744|78.42478056746275|14.339865278628292| 0.04439681567666869|\n",
      "|   Amsterdam|13.643804858134313| 8.227597468871199|79.38456827924067|15.823229230455196|0.051684017146356384|\n",
      "+------------+------------------+------------------+-----------------+------------------+--------------------+\n",
      "only showing top 20 rows\n",
      "\n"
     ]
    }
   ],
   "source": [
    "df.groupBy(\"location\").mean().orderBy(col('avg(mintempC)').asc()).show()"
   ]
  },
  {
   "cell_type": "code",
   "execution_count": 78,
   "metadata": {},
   "outputs": [
    {
     "name": "stderr",
     "output_type": "stream",
     "text": [
      "[Stage 249:>                                                        (0 + 1) / 1]\r"
     ]
    },
    {
     "name": "stdout",
     "output_type": "stream",
     "text": [
      "+-----+---------+-------------+-------------+-----------------+\n",
      "|month| location|avg(maxtempC)|avg(mintempC)|avg(totalSnow_cm)|\n",
      "+-----+---------+-------------+-------------+-----------------+\n",
      "|   12|     Bern|         -2.0|        -19.0|              8.7|\n",
      "|   12|     Bern|         -1.0|        -18.0|             11.0|\n",
      "|   12|     Bern|         -1.5|        -17.5|              5.3|\n",
      "|    2|     Bern|         -2.0|        -17.0|              2.3|\n",
      "|    3|  Toronto|        -11.0|        -16.0|              1.9|\n",
      "|   12|   Prague|         -4.0|        -16.0|              2.2|\n",
      "|    2|     Bern|         -2.0|        -16.0|              1.2|\n",
      "|    1|   Prague|         -6.0|        -16.0|              5.7|\n",
      "|   12|   Prague|         -5.0|        -16.0|              6.7|\n",
      "|    1|   Edirne|         -4.0|        -15.0|             23.0|\n",
      "|   12|     Bern|          1.0|        -15.0|              0.6|\n",
      "|   12|  Beijing|         -3.0|        -15.0|              3.1|\n",
      "|    1|Vancouver|         -5.0|        -15.0|              4.3|\n",
      "|    2|Bucharest|         -2.0|        -15.0|              0.5|\n",
      "|    1|    Sofia|         -6.0|        -14.5|              1.1|\n",
      "|    2|  Beijing|         -4.0|        -14.0|              0.3|\n",
      "|    2|    Sofia|         -2.0|        -14.0|              7.1|\n",
      "|    2|Bucharest|         -2.0|        -14.0|              3.1|\n",
      "|    1|  Toronto|         -9.0|        -14.0|              2.9|\n",
      "|    2|  Toronto|        -10.0|        -14.0|              2.0|\n",
      "+-----+---------+-------------+-------------+-----------------+\n",
      "only showing top 20 rows\n",
      "\n"
     ]
    },
    {
     "name": "stderr",
     "output_type": "stream",
     "text": [
      "                                                                                \r"
     ]
    }
   ],
   "source": [
    "df.selectExpr(\"month(date_time) AS month\", 'maxtempC', \"mintempC\", \"location\", 'totalSnow_cm').groupBy(['month', 'location', 'totalSnow_cm']).mean().select(['month', 'location', 'avg(maxtempC)', 'avg(mintempC)', 'avg(totalSnow_cm)']).orderBy(col('avg(mintempC)').asc()).show()"
   ]
  },
  {
   "cell_type": "code",
   "execution_count": null,
   "metadata": {},
   "outputs": [],
   "source": []
  },
  {
   "cell_type": "markdown",
   "metadata": {},
   "source": [
    "## Snowiest cities"
   ]
  },
  {
   "cell_type": "code",
   "execution_count": 79,
   "metadata": {},
   "outputs": [
    {
     "name": "stderr",
     "output_type": "stream",
     "text": [
      "                                                                                \r"
     ]
    },
    {
     "name": "stdout",
     "output_type": "stream",
     "text": [
      "+-----+---------+----------+------------------+\n",
      "|month| location|avg(month)| avg(totalSnow_cm)|\n",
      "+-----+---------+----------+------------------+\n",
      "|    1|   Munich|       1.0|  1.26036866359447|\n",
      "|    1|    Sofia|       1.0|1.0525345622119815|\n",
      "|    2|   Munich|       2.0|0.9870886075949368|\n",
      "|    3|    Sofia|       3.0|0.9170506912442397|\n",
      "|    2|     Bern|       2.0|0.8772151898734182|\n",
      "|   12|     Bern|      12.0| 0.873697270471464|\n",
      "|    1|   Prague|       1.0|0.8117511520737337|\n",
      "|   12|   Munich|      12.0|0.8062034739454094|\n",
      "|    1|   Warsaw|       1.0| 0.790783410138249|\n",
      "|    1|     Bern|       1.0|0.7834101382488481|\n",
      "|    2|    Sofia|       2.0|0.7729113924050636|\n",
      "|    1|     malt|       1.0|0.6942396313364054|\n",
      "|    1|Bucharest|       1.0| 0.683410138248848|\n",
      "|    2|   Prague|       2.0|0.6554430379746836|\n",
      "|    2|   Warsaw|       2.0|0.6207594936708859|\n",
      "|    3|     Bern|       3.0|0.6096774193548387|\n",
      "|   12|    Sofia|      12.0|0.5985111662531017|\n",
      "|    2|Vancouver|       2.0| 0.588607594936709|\n",
      "|    2|Bucharest|       2.0|0.5817721518987345|\n",
      "|   12|   Prague|      12.0| 0.564516129032258|\n",
      "+-----+---------+----------+------------------+\n",
      "only showing top 20 rows\n",
      "\n"
     ]
    }
   ],
   "source": [
    "df.selectExpr(\"month(date_time) AS month\", \"totalSnow_cm\", \"location\").groupBy(['month', 'location']).mean().orderBy(col('avg(totalSnow_cm)').desc()).show()"
   ]
  },
  {
   "cell_type": "code",
   "execution_count": null,
   "metadata": {},
   "outputs": [],
   "source": []
  },
  {
   "cell_type": "markdown",
   "metadata": {},
   "source": [
    "## Cities with the highest windspeed where we can install wind turbines"
   ]
  },
  {
   "cell_type": "code",
   "execution_count": 80,
   "metadata": {},
   "outputs": [
    {
     "name": "stdout",
     "output_type": "stream",
     "text": [
      "+----------+------------------+------------------+------------------+\n",
      "|  location|     avg(maxtempC)|     avg(mintempC)|avg(windspeedKmph)|\n",
      "+----------+------------------+------------------+------------------+\n",
      "|  Barbados|28.022045315370484| 26.75831802408655|  25.3417023882425|\n",
      "|    Azores|18.701775872627067|17.005307205552153| 23.63849765258216|\n",
      "|      Fiji| 28.62727087160645|27.533578281281894|22.329046744233516|\n",
      "|     Dakar|25.408042457644417| 23.26801388038375|21.922229026331905|\n",
      "|Guadeloupe|27.824862216778936|  26.1924882629108|21.373341498264953|\n",
      "|      Baku|18.408450704225352| 14.49397836293121|21.240048989589713|\n",
      "|    Dublin|12.072259644825474| 7.896917738313942| 20.39354970402123|\n",
      "|    Djerba|22.424780567462747| 19.68789548887528| 20.20575627679118|\n",
      "|    Manama| 29.19861196162482|26.329250867523985|18.756889161053277|\n",
      "| marseille|  18.7542355582772|13.328434374362114|18.326597264747907|\n",
      "|Copenhagen|11.284139620330679| 7.687283119003879|18.161257399469278|\n",
      "|  Istanbul|18.496836088997753| 13.90426617677077| 17.21085935905287|\n",
      "|      Doha|32.162278015921615|25.698918146560523| 16.92263727291284|\n",
      "|     Miami| 27.24984690753215|24.071443151663605| 16.74362114717289|\n",
      "|     Macau| 34.43253725250051| 22.63768115942029|16.468258828332313|\n",
      "|  Auckland|18.012451520718514|13.713206776893243|16.275974688711983|\n",
      "|  Zanzibar|28.631557460706265|25.266993263931415| 16.17309655031639|\n",
      "|   Chennai| 31.15003061849357|26.761788120024494| 16.10614411104307|\n",
      "|    Cancun|28.809961216574813|24.871810573586448|16.079403959991836|\n",
      "| Amsterdam|13.643804858134313| 8.227597468871199|15.823229230455196|\n",
      "+----------+------------------+------------------+------------------+\n",
      "only showing top 20 rows\n",
      "\n"
     ]
    }
   ],
   "source": [
    "df.groupBy(\"location\").mean().orderBy(col('avg(windspeedKmph)').desc()).select(['location', 'avg(maxtempC)', 'avg(mintempC)', 'avg(windspeedKmph)']).show()"
   ]
  },
  {
   "cell_type": "code",
   "execution_count": 81,
   "metadata": {},
   "outputs": [
    {
     "name": "stdout",
     "output_type": "stream",
     "text": [
      "+----------+-------------+-------------+------------------+\n",
      "|  location|max(maxtempC)|max(mintempC)|max(windspeedKmph)|\n",
      "+----------+-------------+-------------+------------------+\n",
      "|     Miami|           35|           31|                86|\n",
      "|    Taipei|           39|           32|                72|\n",
      "|Guadeloupe|           34|           29|                70|\n",
      "|    Dublin|           23|           17|                67|\n",
      "|    Zhuhai|           36|           31|                65|\n",
      "|      Baku|           40|           32|                64|\n",
      "|    Djerba|           37|           32|                64|\n",
      "|    Azores|           26|           24|                64|\n",
      "|      Fiji|           31|           30|                63|\n",
      "| marseille|           35|           29|                60|\n",
      "|    Athens|           43|           33|                58|\n",
      "|  Istanbul|           40|           29|                57|\n",
      "|     crete|           36|           29|                57|\n",
      "|    Muscat|           43|           36|                56|\n",
      "|  Shenzhen|           39|           33|                55|\n",
      "|  Florence|           41|           25|                53|\n",
      "|   Antalya|           40|           31|                53|\n",
      "|    Manama|           42|           37|                53|\n",
      "| Barcelona|           35|           30|                53|\n",
      "| Amsterdam|           35|           25|                53|\n",
      "+----------+-------------+-------------+------------------+\n",
      "only showing top 20 rows\n",
      "\n"
     ]
    }
   ],
   "source": [
    "df.groupBy(\"location\").max().orderBy(col('max(windspeedKmph)').desc()).select(['location', 'max(maxtempC)', 'max(mintempC)', 'max(windspeedKmph)']).show()"
   ]
  },
  {
   "cell_type": "code",
   "execution_count": null,
   "metadata": {},
   "outputs": [],
   "source": []
  },
  {
   "cell_type": "markdown",
   "metadata": {},
   "source": [
    "### CITIES STATS"
   ]
  },
  {
   "cell_type": "code",
   "execution_count": 82,
   "metadata": {},
   "outputs": [],
   "source": [
    "month_names = {\n",
    "    1 : 'JANUARY',\n",
    "    2 : 'FEBRUARY',\n",
    "    3 : 'MARCH',\n",
    "    4 : 'APRIL',\n",
    "    5 : 'MAY',\n",
    "    6 : 'JUNE',\n",
    "    7 : 'JULY',\n",
    "    8 : 'AUGUST',\n",
    "    9 : 'SEPTEMBER',\n",
    "    10 : 'OCTOBER',\n",
    "    11 : 'NOVEMBER',\n",
    "    12 : 'DECEMBER'\n",
    "}"
   ]
  },
  {
   "cell_type": "code",
   "execution_count": 83,
   "metadata": {},
   "outputs": [],
   "source": [
    "def stats():\n",
    "\n",
    "  # INPUTS VERIFICATION ==============================\n",
    "  month_ = input('PLEASE CHOOSE A MONTH')\n",
    "  try:\n",
    "      month_ = int(month_)\n",
    "  except ValueError:\n",
    "      return (\"PLEASE CHOOSE AN INTEGER FOR THE MONTH\")\n",
    "\n",
    "  if month_ not in month_names.keys():\n",
    "      return (\"PLEASE CHOOSE A MONTH BETWEEN 1 AND 12\")\n",
    "\n",
    "\n",
    "  city = input('PLEASE CHOOSE A CITY')\n",
    "\n",
    "  # ===================================================\n",
    "\n",
    "  max_month = df.selectExpr(\"month(date_time) AS month\", \"maxtempC\", \"location\").groupBy(['month', 'location']).max().orderBy(col('max(maxtempC)').desc())\n",
    "  max_month = max_month.filter((max_month.month == month_) & (max_month['location'] == city)).select(['month', 'location', 'max(maxtempC)'])\n",
    "  if max_month.count() == 0:\n",
    "      return \"SORRY WE DON'T HAVE DATA FOR YOUR INPUT\"\n",
    "\n",
    "  max_month = max_month.select([\"max(maxtempC)\"]).first()[0]\n",
    "\n",
    "  max_year = df.groupBy(\"location\").max().orderBy(col('max(maxtempC)'))\n",
    "  max_year = max_year.filter((max_year.location == city)).select([\"max(maxtempC)\"]).first()[0]\n",
    "\n",
    "\n",
    "  min_month = df.selectExpr(\"month(date_time) AS month\", \"mintempC\", \"location\").groupBy(['month', 'location']).min().orderBy(col('min(mintempC)').desc())\n",
    "  min_month = min_month.filter((min_month.month == month_) & (min_month['location'] == city)).select(['month', 'location', 'min(mintempC)'])\n",
    "  if min_month.count() == 0:\n",
    "      print(f\"SORRY WE DON'T HAVE DATA FOR YOUR INPUT\")\n",
    "\n",
    "  min_month = min_month.select([\"min(mintempC)\"]).first()[0]\n",
    "\n",
    "  min_year = df.groupBy(\"location\").min().orderBy(col('min(mintempC)'))\n",
    "  min_year = min_year.filter((min_year.location == city)).select([\"min(mintempC)\"]).first()[0]\n",
    "\n",
    "  var = df.groupBy(\"location\").agg({'maxtempC': 'variance', 'mintempC': 'variance'})\n",
    "  var_max = var.filter((var.location == city)).select([\"variance(maxtempC)\"]).first()[0]\n",
    "  var_min = var.filter((var.location == city)).select([\"variance(mintempC)\"]).first()[0]\n",
    "\n",
    "\n",
    "  data = [\n",
    "      (month_,city, max_month, min_month, max_year, min_year, var_max, var_min)\n",
    "    ]\n",
    "    \n",
    "  schema = StructType([ \\\n",
    "      StructField(\"month\",IntegerType(),True), \\\n",
    "      StructField(\"city\",StringType(),True), \\\n",
    "      StructField(\"max_month\",IntegerType(),True), \\\n",
    "      StructField(\"min_month\", IntegerType(), True), \\\n",
    "      StructField(\"max_year\",IntegerType(),True), \\\n",
    "      StructField(\"min_year\", IntegerType(), True), \\\n",
    "      StructField(\"variance_max\", FloatType(), True), \\\n",
    "      StructField(\"variance_min\", FloatType(), True) \\\n",
    "    ])\n",
    "\n",
    "\n",
    "  spark.createDataFrame(data=data,schema=schema).show()"
   ]
  },
  {
   "cell_type": "code",
   "execution_count": 151,
   "metadata": {},
   "outputs": [
    {
     "name": "stderr",
     "output_type": "stream",
     "text": [
      "                                                                                \r"
     ]
    },
    {
     "name": "stdout",
     "output_type": "stream",
     "text": [
      "+-----+-----+---------+---------+--------+--------+------------+------------+\n",
      "|month| city|max_month|min_month|max_year|min_year|variance_max|variance_min|\n",
      "+-----+-----+---------+---------+--------+--------+------------+------------+\n",
      "|    9|Paris|       36|        5|      41|     -10|   58.553497|    33.93195|\n",
      "+-----+-----+---------+---------+--------+--------+------------+------------+\n",
      "\n"
     ]
    }
   ],
   "source": [
    "stats()"
   ]
  },
  {
   "cell_type": "code",
   "execution_count": 125,
   "metadata": {},
   "outputs": [
    {
     "name": "stdout",
     "output_type": "stream",
     "text": [
      "+-------+------------------+-----------------+----------------+------------------+-------------------+--------+\n",
      "|summary|          maxtempC|         mintempC|        humidity|     windspeedKmph|       totalSnow_cm|location|\n",
      "+-------+------------------+-----------------+----------------+------------------+-------------------+--------+\n",
      "|  count|              4899|             4899|            4899|              4899|               4899|    4899|\n",
      "|   mean|15.908552765870585|8.553582363747704|76.4633598693611|12.386405388854868|0.04198816084915288|    null|\n",
      "| stddev| 7.652025723983453|5.825113619402974|11.4733537682678|  5.36350229989391| 0.4388245359119745|    null|\n",
      "|    min|                -4|              -10|              31|                 2|                0.0|   Paris|\n",
      "|    max|                41|               28|             100|                42|               11.9|   Paris|\n",
      "+-------+------------------+-----------------+----------------+------------------+-------------------+--------+\n",
      "\n"
     ]
    }
   ],
   "source": [
    "df.filter(df.location == 'Paris').describe().show()"
   ]
  },
  {
   "cell_type": "code",
   "execution_count": null,
   "metadata": {},
   "outputs": [],
   "source": []
  },
  {
   "cell_type": "markdown",
   "metadata": {},
   "source": [
    "### EARTH TEMPERATURE"
   ]
  },
  {
   "cell_type": "code",
   "execution_count": 88,
   "metadata": {},
   "outputs": [
    {
     "name": "stdout",
     "output_type": "stream",
     "text": [
      "+----+------------------+\n",
      "|year|     avg(maxtempC)|\n",
      "+----+------------------+\n",
      "|2009|22.715121691714323|\n",
      "|2010| 22.44684133528395|\n",
      "|2011|22.451762202420536|\n",
      "|2012| 22.47424266539339|\n",
      "|2013|22.616730948264397|\n",
      "|2014|22.920388349514564|\n",
      "|2015|23.255379704747973|\n",
      "|2016|23.113825667144145|\n",
      "|2017| 23.27743050937625|\n",
      "|2018|23.560074477989094|\n",
      "|2019|23.383588243117437|\n",
      "|2020| 22.96686826887368|\n",
      "|2021| 22.93879505253358|\n",
      "|2022|21.198932681797725|\n",
      "+----+------------------+\n",
      "\n"
     ]
    }
   ],
   "source": [
    "# MEAN TEMPERATURE FOR EACH YEAR\n",
    "\n",
    "df.selectExpr(\"year(date_time) AS year\", \"maxtempC\").groupBy(\"year\").mean().select(['year', 'avg(maxtempC)']).sort('year').show()"
   ]
  },
  {
   "cell_type": "code",
   "execution_count": null,
   "metadata": {},
   "outputs": [],
   "source": []
  },
  {
   "cell_type": "markdown",
   "metadata": {},
   "source": [
    "### CHOOSE A DESTINATION DEPENDING ON TEMPERATURE AND DATE INPUTS"
   ]
  },
  {
   "cell_type": "code",
   "execution_count": 89,
   "metadata": {},
   "outputs": [],
   "source": [
    "def vacation_city():\n",
    "\n",
    "    # INPUTS VERIFICATION ==============================\n",
    "    month_ = input('PLEASE CHOOSE A MONTH')\n",
    "    try:\n",
    "        month_ = int(month_)\n",
    "    except ValueError:\n",
    "        return (\"PLEASE CHOOSE AN INTEGER FOR THE MONTH\")\n",
    "\n",
    "    if month_ not in month_names.keys():\n",
    "        return (\"PLEASE CHOOSE A MONTH BETWEEN 1 AND 12\")\n",
    "\n",
    "\n",
    "    city = input('PLEASE CHOOSE A CITY')\n",
    "\n",
    "    # ===================================================\n",
    "\n",
    "    # REQUESTS ==========================================\n",
    "\n",
    "    print(f\"... traveling to {city} in {month_names[month_]}\")\n",
    "    tmp = df.selectExpr(\"month(date_time) AS month\", \"maxtempC\", \"location\").groupBy(['month', 'location']).mean().orderBy(col('avg(maxtempC)').desc())\n",
    "    tmp = tmp.filter((tmp.month == month_) & (tmp['location'] == city)).select(['month', 'location', 'avg(maxtempC)'])\n",
    "    if tmp.count() == 0:\n",
    "        print(f\"SORRY WE DON'T HAVE DATA FOR YOUR INPUT\")\n",
    "    else:\n",
    "        tmp.show()\n"
   ]
  },
  {
   "cell_type": "code",
   "execution_count": 109,
   "metadata": {},
   "outputs": [],
   "source": [
    "def vacation_temperature():\n",
    "\n",
    "    # INPUTS VERIFICATION ==============================\n",
    "    month_ = input('PLEASE CHOOSE A MONTH')\n",
    "    try:\n",
    "        month_ = int(month_)\n",
    "    except ValueError:\n",
    "        return (\"PLEASE CHOOSE AN INTEGER FOR THE MONTH\")\n",
    "\n",
    "    if month_ not in month_names.keys():\n",
    "        return (\"PLEASE CHOOSE A MONTH BETWEEN 1 AND 12\")\n",
    "\n",
    "\n",
    "    temperature = input('PLEASE CHOOSE A TEMPERATURE')\n",
    "    try:\n",
    "        temperature = int(temperature)\n",
    "    except ValueError:\n",
    "        return (\"PLEASE CHOOSE AN INTEGER FOR TEMPERATURE\")\n",
    "        \n",
    "    # ===================================================\n",
    "\n",
    "    # REQUESTS ==========================================\n",
    "    print(f\"... searching for cities with {temperature} degrees in {month_names[month_]}\")\n",
    "    tmp = df.selectExpr(\"month(date_time) AS month\", \"maxtempC\", \"location\").groupBy(['month', 'location']).mean().orderBy(col('avg(maxtempC)').desc())\n",
    "    tmp = tmp.filter((tmp.month == month_) & (tmp['avg(maxtempC)'] < (temperature + 1)) & (tmp['avg(maxtempC)'] > (temperature))).select(['month', 'location', 'avg(maxtempC)'])\n",
    "    if tmp.count() == 0:\n",
    "        print(f\"SORRY WE DON'T HAVE DATA FOR {temperature} DEGREES PLEASE TRY ANOTHER VALUE\")\n",
    "    else:\n",
    "        tmp.show()"
   ]
  },
  {
   "cell_type": "code",
   "execution_count": 152,
   "metadata": {},
   "outputs": [
    {
     "name": "stdout",
     "output_type": "stream",
     "text": [
      "... traveling to Barcelona in JUNE\n",
      "+-----+---------+-------------+\n",
      "|month| location|avg(maxtempC)|\n",
      "+-----+---------+-------------+\n",
      "|    6|Barcelona|         25.3|\n",
      "+-----+---------+-------------+\n",
      "\n"
     ]
    }
   ],
   "source": [
    "vacation_city()"
   ]
  },
  {
   "cell_type": "code",
   "execution_count": 153,
   "metadata": {},
   "outputs": [
    {
     "name": "stdout",
     "output_type": "stream",
     "text": [
      "... searching for cities with 25 degrees in SEPTEMBER\n"
     ]
    },
    {
     "name": "stderr",
     "output_type": "stream",
     "text": [
      "                                                                                \r"
     ]
    },
    {
     "name": "stdout",
     "output_type": "stream",
     "text": [
      "+-----+---------+------------------+\n",
      "|month| location|     avg(maxtempC)|\n",
      "+-----+---------+------------------+\n",
      "|    9|    Milan|25.817948717948717|\n",
      "|    9|     Baku| 25.70769230769231|\n",
      "|    9|Barcelona|25.646153846153847|\n",
      "|    9|  Nairobi| 25.47179487179487|\n",
      "|    9| Bordeaux|25.125641025641027|\n",
      "|    9| Istanbul| 25.08205128205128|\n",
      "|    9|     malt| 25.05128205128205|\n",
      "+-----+---------+------------------+\n",
      "\n"
     ]
    },
    {
     "name": "stderr",
     "output_type": "stream",
     "text": [
      "                                                                                \r"
     ]
    }
   ],
   "source": [
    "vacation_temperature()"
   ]
  },
  {
   "cell_type": "code",
   "execution_count": null,
   "metadata": {},
   "outputs": [],
   "source": []
  },
  {
   "cell_type": "markdown",
   "metadata": {},
   "source": [
    "### PREDICTIONS"
   ]
  },
  {
   "cell_type": "code",
   "execution_count": 93,
   "metadata": {},
   "outputs": [],
   "source": [
    "month_days = {\n",
    "    1 : '31',\n",
    "    2 : '28',\n",
    "    3 : '31',\n",
    "    4 : '30',\n",
    "    5 : '31',\n",
    "    6 : '30',\n",
    "    7 : '31',\n",
    "    8 : '31',\n",
    "    9 : '30',\n",
    "    10 : '31',\n",
    "    11 : '30',\n",
    "    12 : '31'\n",
    "}"
   ]
  },
  {
   "cell_type": "code",
   "execution_count": 94,
   "metadata": {},
   "outputs": [],
   "source": [
    "with open('/home/yasser/Desktop/hadoop/prediction/prediction_pickle', 'rb') as f:\n",
    "    model = pickle.load(f)"
   ]
  },
  {
   "cell_type": "code",
   "execution_count": 95,
   "metadata": {},
   "outputs": [],
   "source": [
    "def barcelona_prediction():\n",
    "\n",
    "    # INPUTS VERIFICATION ==============================\n",
    "    month_ = input('PLEASE CHOOSE A MONTH')\n",
    "    try:\n",
    "        month_ = int(month_)\n",
    "    except ValueError:\n",
    "        return (\"PLEASE CHOOSE AN INTEGER FOR THE MONTH\")\n",
    "\n",
    "    if month_ not in month_names.keys():\n",
    "        return (\"PLEASE CHOOSE A MONTH BETWEEN 1 AND 12\")\n",
    "\n",
    "    year = input('PLEASE CHOOSE A YEAR BETWEEN 2015 AND 2025')\n",
    "    try:\n",
    "        year = int(year)\n",
    "    except ValueError:\n",
    "        return (\"PLEASE CHOOSE AN INTEGER FOR THE YEAR\")\n",
    "\n",
    "    if year < 2015 or year > 2025:\n",
    "        return (\"PLEASE CHOOSE A YEAR BETWEEN 2015 AND 2025\")\n",
    "\n",
    "    return f'{str(year)}-{str(month_)}-{month_days[month_]}'\n",
    "    # model.predict(f\"'{year}-{month_}-{month_days[month_]}'\")"
   ]
  },
  {
   "cell_type": "code",
   "execution_count": 96,
   "metadata": {},
   "outputs": [],
   "source": [
    "date_ = barcelona_prediction()"
   ]
  },
  {
   "cell_type": "code",
   "execution_count": 97,
   "metadata": {},
   "outputs": [
    {
     "data": {
      "text/plain": [
       "2020-09-30    29.171461\n",
       "Freq: M, dtype: float64"
      ]
     },
     "execution_count": 97,
     "metadata": {},
     "output_type": "execute_result"
    }
   ],
   "source": [
    "model.predict(date_)"
   ]
  },
  {
   "cell_type": "code",
   "execution_count": 154,
   "metadata": {},
   "outputs": [
    {
     "data": {
      "text/plain": [
       "2025-09-30    33.6556\n",
       "Freq: M, dtype: float64"
      ]
     },
     "execution_count": 154,
     "metadata": {},
     "output_type": "execute_result"
    }
   ],
   "source": [
    "model.predict('2025-09-30')"
   ]
  },
  {
   "cell_type": "code",
   "execution_count": null,
   "metadata": {},
   "outputs": [],
   "source": []
  }
 ],
 "metadata": {
  "kernelspec": {
   "display_name": "Python 3.9.7 64-bit",
   "language": "python",
   "name": "python3"
  },
  "language_info": {
   "codemirror_mode": {
    "name": "ipython",
    "version": 3
   },
   "file_extension": ".py",
   "mimetype": "text/x-python",
   "name": "python",
   "nbconvert_exporter": "python",
   "pygments_lexer": "ipython3",
   "version": "3.9.7"
  },
  "orig_nbformat": 4,
  "vscode": {
   "interpreter": {
    "hash": "4f58af7b3695201df0b4d01d2970eb15c6a084c1ad11c9268b240ea3e6dcf4ce"
   }
  }
 },
 "nbformat": 4,
 "nbformat_minor": 2
}
